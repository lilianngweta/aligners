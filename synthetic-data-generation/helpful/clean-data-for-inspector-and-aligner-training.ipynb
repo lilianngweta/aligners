{
 "cells": [
  {
   "cell_type": "code",
   "execution_count": null,
   "metadata": {},
   "outputs": [],
   "source": [
    "# Import modules\n",
    "import os\n",
    "import pandas as pd\n",
    "import glob\n",
    "\n",
    "from sentence_transformers import SentenceTransformer\n",
    "from sentence_transformers.util import cos_sim\n",
    "\n",
    "# from wordcloud import WordCloud\n",
    "# from wordcloud import ImageColorGenerator\n",
    "# from wordcloud import STOPWORDS\n",
    "import matplotlib.pyplot as plt\n",
    "import seaborn as sns"
   ]
  },
  {
   "cell_type": "code",
   "execution_count": null,
   "metadata": {},
   "outputs": [],
   "source": [
    "\n",
    "data_path = './data/'\n",
    "\n",
    "df_list = []\n",
    "\n",
    "    \n",
    "for data_file in glob.glob(data_path + '*.csv'):\n",
    "    batch_df = pd.read_csv(data_file)\n",
    "    df_list.append(batch_df)\n",
    "    \n",
    "    \n",
    "data_df = pd.concat(df_list)\n",
    "data_df = data_df.astype(str)\n",
    "data_df"
   ]
  },
  {
   "cell_type": "markdown",
   "metadata": {},
   "source": [
    "# Filtering out prompt keywords leaked into the generated data"
   ]
  },
  {
   "cell_type": "code",
   "execution_count": null,
   "metadata": {},
   "outputs": [],
   "source": [
    "data_df = data_df.fillna('NaN')\n",
    "data_df = data_df[~(data_df[\"corrected_reponse\"].str.contains(\"Nothing\"))]\n",
    "\n",
    "topic = data_df[~(data_df[\"input\"].str.contains(\"topic:\"))]\n",
    "Topic = topic[~(topic[\"input\"].str.contains(\"Topic:\"))]\n",
    "question_type = Topic[~(Topic[\"input\"].str.contains(\"question_type:\"))]\n",
    "Question_type = question_type[~(question_type[\"input\"].str.contains(\"Question_type:\"))]\n",
    "type_ = Question_type[~(Question_type[\"input\"].str.contains(\"type:\"))]\n",
    "Type = type_[~(type_[\"input\"].str.contains(\"Type:\"))]\n",
    "question = Type[~(Type[\"input\"].str.contains(\"question:\"))]\n",
    "Question = question[~(question[\"input\"].str.contains(\"Question:\"))]\n",
    "\n",
    "\n",
    "input_ = Question[~(Question[\"initial_response\"].str.contains(\"input:\"))]\n",
    "Input = input_[~(input_[\"initial_response\"].str.contains(\"Input:\"))]\n",
    "response = Input[~(Input[\"initial_response\"].str.contains(\"response:\"))]\n",
    "Response = response[~(response[\"initial_response\"].str.contains(\"Response:\"))]\n",
    "corrector = Response[~(Response[\"initial_response\"].str.contains(\"corrector:\"))]\n",
    "Corrector = corrector[~(corrector[\"initial_response\"].str.contains(\"Corrector:\"))]\n",
    "\n",
    "\n",
    "input__ = Corrector[~(Corrector[\"corrected_reponse\"].str.contains(\"input:\"))]\n",
    "Input_ = input__[~(input__[\"corrected_reponse\"].str.contains(\"Input:\"))]\n",
    "response_ = Input_[~(Input_[\"corrected_reponse\"].str.contains(\"response:\"))]\n",
    "Response_ = response_[~(response_[\"corrected_reponse\"].str.contains(\"Response:\"))]\n",
    "corrector_ = Response_[~(Response_[\"corrected_reponse\"].str.contains(\"corrector:\"))]\n",
    "Corrector_ = corrector_[~(corrector_[\"corrected_reponse\"].str.contains(\"Corrector:\"))]\n",
    "\n",
    "\n",
    "data_df = Corrector_.copy()\n",
    "data_df\n"
   ]
  },
  {
   "cell_type": "markdown",
   "metadata": {},
   "source": [
    "# Filtering out responses that contain '<'"
   ]
  },
  {
   "cell_type": "code",
   "execution_count": null,
   "metadata": {},
   "outputs": [],
   "source": [
    "# Filtering out responses that contain '<'\n",
    "tags_df = data_df[data_df[\"initial_response\"].str.contains(\"<\")]\n",
    "display(tags_df)\n",
    "# tags_df.to_csv('./data/final/html_tags.csv', index = False)\n",
    "\n",
    "data_df_no_tags = data_df[~(data_df[\"initial_response\"].str.contains(\"<\"))]\n",
    "# data_df_no_tags = data_df\n",
    "data_df_no_tags"
   ]
  },
  {
   "cell_type": "markdown",
   "metadata": {},
   "source": [
    "# Filtering out 'none' responses "
   ]
  },
  {
   "cell_type": "code",
   "execution_count": null,
   "metadata": {},
   "outputs": [],
   "source": [
    "# Filtering out 'none' responses \n",
    "none_df1 = data_df_no_tags[data_df_no_tags[\"initial_response\"]==\"none\"]\n",
    "none_df2 = data_df_no_tags[data_df_no_tags[\"initial_response\"]==\"None\"]\n",
    "none_df = pd.concat([none_df1, none_df2])\n",
    "display(none_df)\n",
    "# none_df.to_csv('./data_care/combined/none.csv', index = False)\n",
    "\n",
    "data_df_no_none = data_df_no_tags[~(data_df_no_tags[\"initial_response\"]==\"none\")]\n",
    "data_df_no_none = data_df_no_none[~(data_df_no_none[\"initial_response\"]==\"None\")]\n",
    "data_df_no_none"
   ]
  },
  {
   "cell_type": "markdown",
   "metadata": {},
   "source": [
    "# Filtering out questions that contain word 'code'"
   ]
  },
  {
   "cell_type": "code",
   "execution_count": null,
   "metadata": {},
   "outputs": [],
   "source": [
    "# Filtering out questions that contain word 'code'\n",
    "code_df = data_df_no_none[data_df_no_none[\"input\"].str.contains(\"code\")]\n",
    "display(code_df)\n",
    "# code_df.to_csv('./data/final/code.csv', index = False)\n",
    "\n",
    "data_df_no_code = data_df_no_none[~(data_df_no_none[\"input\"].str.contains(\"code\"))]\n",
    "# data_df_no_code = data_df_no_tags\n",
    "data_df_no_code"
   ]
  },
  {
   "cell_type": "markdown",
   "metadata": {},
   "source": [
    "# Filtering out questions that contain word 'program'"
   ]
  },
  {
   "cell_type": "code",
   "execution_count": null,
   "metadata": {},
   "outputs": [],
   "source": [
    "# Filtering out questions that contain word 'program'\n",
    "program_df = data_df_no_code[data_df_no_code[\"input\"].str.contains(\"program\")]\n",
    "display(program_df)\n",
    "# program_df.to_csv('./data/final/program.csv', index = False)\n",
    "\n",
    "data_df_no_program = data_df_no_code[~(data_df_no_code[\"input\"].str.contains(\"program\"))]\n",
    "# data_df_no_program = data_df_no_code\n",
    "data_df_no_program"
   ]
  },
  {
   "cell_type": "markdown",
   "metadata": {},
   "source": [
    "# Filtering out questions that contain word 'compute'"
   ]
  },
  {
   "cell_type": "code",
   "execution_count": null,
   "metadata": {
    "scrolled": true
   },
   "outputs": [],
   "source": [
    "# Filtering out questions that contain word 'compute'\n",
    "compute_df = data_df_no_program[data_df_no_program[\"input\"].str.contains(\"compute \")]\n",
    "display(compute_df)\n",
    "# compute_df.to_csv('./data/final/compute.csv', index = False)\n",
    "\n",
    "data_df_no_compute = data_df_no_program[~(data_df_no_program[\"input\"].str.contains(\"compute \"))]\n",
    "# data_df_no_compute = data_df_no_program\n",
    "data_df_no_compute"
   ]
  },
  {
   "cell_type": "markdown",
   "metadata": {},
   "source": [
    "# Filtering out non-english responses"
   ]
  },
  {
   "cell_type": "code",
   "execution_count": null,
   "metadata": {},
   "outputs": [],
   "source": [
    "# Filtering out non-english responses\n",
    "'''\n",
    "isEnglish function from \n",
    "https://stackoverflow.com/questions/27084617/detect-strings-with-non-english-characters-in-python\n",
    "'''\n",
    "def isEnglish(s):\n",
    "    try:\n",
    "        s.encode(encoding='utf-8').decode('ascii')\n",
    "    except UnicodeDecodeError:\n",
    "        return False\n",
    "    else:\n",
    "        return True\n",
    "\n",
    "not_english_df = data_df_no_compute[~(data_df_no_compute[\"initial_response\"].apply(isEnglish))]\n",
    "display(not_english_df)\n",
    "# not_english_df.to_csv('./data/final/not_english.csv', index = False)\n",
    "\n",
    "data_df_no_nonenglish = data_df_no_compute[data_df_no_compute[\"initial_response\"].apply(isEnglish)]\n",
    "data_df_no_nonenglish\n",
    "\n",
    "# data_df_no_nonenglish = data_df_no_compute\n",
    "data_df_no_nonenglish"
   ]
  },
  {
   "cell_type": "markdown",
   "metadata": {},
   "source": [
    "# Filtering out rows with 'Response is incorrect' corrector thoughts"
   ]
  },
  {
   "cell_type": "code",
   "execution_count": null,
   "metadata": {},
   "outputs": [],
   "source": [
    "# Filtering out rows with 'Response is incorrect' corrector thoughts\n",
    "incorrect_response_df = data_df_no_nonenglish[data_df_no_nonenglish[\"response_problems\"] == \"The response is incorrect.\"]\n",
    "display(incorrect_response_df)\n",
    "# incorrect_response_df.to_csv('./data/final/incorrect_response.csv', index = False)\n",
    "\n",
    "data_df_no_incorrect_response = data_df_no_nonenglish[~(data_df_no_nonenglish[\"response_problems\"] == \"The response is incorrect.\")]\n",
    "# data_df_no_incorrect_response = data_df_no_nonenglish\n",
    "data_df_no_incorrect_response"
   ]
  },
  {
   "cell_type": "markdown",
   "metadata": {},
   "source": [
    "# Filtering out questions that contain word 'formula'"
   ]
  },
  {
   "cell_type": "code",
   "execution_count": null,
   "metadata": {},
   "outputs": [],
   "source": [
    "# Filtering out questions that contain word 'formula'\n",
    "formula_df = data_df_no_incorrect_response[data_df_no_incorrect_response[\"input\"].str.contains(\"formula\")]\n",
    "display(formula_df)\n",
    "# formula_df.to_csv('./data/final/formula.csv', index = False)\n",
    "\n",
    "final_df = data_df_no_incorrect_response[~(data_df_no_incorrect_response[\"input\"].str.contains(\"formula\"))]\n",
    "\n",
    "# final_df = data_df_no_incorrect_response\n",
    "final_df"
   ]
  },
  {
   "cell_type": "markdown",
   "metadata": {},
   "source": [
    "# Replace the stopping sequence \"Input:\" that shows up in some of the responses with empty string and remove unwanted white spaces and new lines in responses."
   ]
  },
  {
   "cell_type": "code",
   "execution_count": null,
   "metadata": {},
   "outputs": [],
   "source": [
    "# Replace the stopping sequence \"Input:\" that shows up in some of the responses with empty string\n",
    "final_df['initial_response'] = final_df['initial_response'].str.replace('Input:','')\n",
    "final_df['corrected_reponse'] = final_df['corrected_reponse'].str.replace('Input:','')\n",
    "\n",
    "\n",
    "# Remove unwanted white spaces and new lines in responses\n",
    "final_df['initial_response'] = final_df['initial_response'].str.strip()\n",
    "final_df['corrected_reponse'] = final_df['corrected_reponse'].str.strip()\n",
    "\n",
    "\n",
    "final_df"
   ]
  },
  {
   "cell_type": "markdown",
   "metadata": {},
   "source": [
    "# Save data to a csv file"
   ]
  },
  {
   "cell_type": "code",
   "execution_count": null,
   "metadata": {},
   "outputs": [],
   "source": [
    "# final_df.to_csv(\"./data_test_synthetic_falcon/combined/initial_response_falcon_noprompt.csv\", index=False)\n",
    "final_df.to_csv(\"./data/final/helpful_aligner_data_new.csv\", index=False)\n",
    "\n"
   ]
  },
  {
   "cell_type": "markdown",
   "metadata": {},
   "source": [
    "# A word cloud visualization to show the most used words in generated responses. The most used words are in large font and the least used words in small font."
   ]
  },
  {
   "cell_type": "code",
   "execution_count": null,
   "metadata": {},
   "outputs": [],
   "source": [
    "# '''A word cloud visualization to show the most used words in generated responses. \n",
    "#    The most used words are in large font and the least used words in small font.\n",
    "# '''\n",
    "# text1 = \" \".join(resp1 for resp1 in final_df.initial_response)\n",
    "# text2 = \" \".join(resp2 for resp2 in final_df.corrected_reponse)\n",
    "# text = text1 +\" \"+ text2\n",
    "# stopwords = set(STOPWORDS)\n",
    "# wordcloud = WordCloud(stopwords=stopwords, background_color=\"white\").generate(text)\n",
    "# plt.figure( figsize=(30,20))\n",
    "# plt.imshow(wordcloud, interpolation='bilinear')\n",
    "# plt.axis(\"off\")\n",
    "# plt.show()"
   ]
  },
  {
   "cell_type": "markdown",
   "metadata": {},
   "source": [
    "# Computing similarity between y and y'"
   ]
  },
  {
   "cell_type": "code",
   "execution_count": null,
   "metadata": {},
   "outputs": [],
   "source": [
    "'''Similarity computation of y and y'\n",
    "'''\n",
    "model = SentenceTransformer('all-MiniLM-L6-v2')\n",
    "similarity_scores = []\n",
    "\n",
    "for i in range(len(final_df)):\n",
    "    sentences = [final_df.iloc[i]['initial_response'], final_df.iloc[i]['corrected_reponse']]\n",
    "    vectorized_sentences = model.encode(sentences)\n",
    "    similarity_score = cos_sim(vectorized_sentences[0],vectorized_sentences[1]).item()\n",
    "    similarity_scores.append(similarity_score)\n",
    "#     if (i%100)==0:\n",
    "#         print(\"Index: \", i, \"Similarity score: \", similarity_score)\n",
    "\n",
    "final_df['similarity_score'] = similarity_scores\n",
    "final_df"
   ]
  },
  {
   "cell_type": "code",
   "execution_count": null,
   "metadata": {},
   "outputs": [],
   "source": [
    "final_df.to_csv(\"./data/final/helpful_aligner_data_sim_scores.csv\", index=False)"
   ]
  },
  {
   "cell_type": "markdown",
   "metadata": {},
   "source": [
    "# Histogram of similarity scores between y and y'"
   ]
  },
  {
   "cell_type": "code",
   "execution_count": null,
   "metadata": {},
   "outputs": [],
   "source": [
    "# Histogram of similarity scores between y and y'\n",
    "sns.set(rc={'figure.figsize':(12,9)})\n",
    "sns.histplot(data=final_df, x=\"similarity_score\")"
   ]
  },
  {
   "cell_type": "markdown",
   "metadata": {},
   "source": [
    "# Prepare Data for Inspector Training"
   ]
  },
  {
   "cell_type": "code",
   "execution_count": null,
   "metadata": {},
   "outputs": [],
   "source": [
    "sim_data = pd.read_csv(\"./data/final/helpful_aligner_data_sim_scores.csv\")\n",
    "sim_data"
   ]
  },
  {
   "cell_type": "code",
   "execution_count": null,
   "metadata": {},
   "outputs": [],
   "source": [
    "sim_data = sim_data[~(sim_data.similarity_score>=0.9)]\n",
    "sim_data"
   ]
  },
  {
   "cell_type": "markdown",
   "metadata": {},
   "source": [
    "# Reduce the sample size"
   ]
  },
  {
   "cell_type": "code",
   "execution_count": null,
   "metadata": {},
   "outputs": [],
   "source": [
    "sim_data = sim_data[:70000]\n",
    "sim_data"
   ]
  },
  {
   "cell_type": "markdown",
   "metadata": {},
   "source": [
    "# Restructuring the data to have class 0 and class 1 labels for training the classification model"
   ]
  },
  {
   "cell_type": "code",
   "execution_count": null,
   "metadata": {},
   "outputs": [],
   "source": [
    "INSTRUCTION_SEPARATOR = \" [SEP] \"\n",
    "class0 = sim_data[\"input\"] + INSTRUCTION_SEPARATOR + sim_data[\"initial_response\"]\n",
    "class1 = sim_data[\"input\"] + INSTRUCTION_SEPARATOR + sim_data[\"corrected_reponse\"]\n",
    "df0 = pd.DataFrame(class0, columns = [\"text\"])\n",
    "df0['label'] = 0\n",
    "# df0.to_csv(\"./data/final/helpful_class0.csv\", index=False)\n",
    "df1= pd.DataFrame(class1, columns = [\"text\"])\n",
    "df1['label'] = 1\n",
    "# df1.to_csv(\"./data/final/helpful_class1.csv\", index=False)\n",
    "\n",
    "data = pd.concat([df0, df1]).reset_index(drop=True)\n",
    "# data.to_csv(\"./data-inspector/final/helpful_inspector_data.csv\", index=False)\n",
    "data.to_csv(\"./data/final/helpful_inspector_data.csv\", index=False)\n",
    "data"
   ]
  }
 ],
 "metadata": {
  "kernelspec": {
   "display_name": "Python 3",
   "language": "python",
   "name": "python3"
  },
  "language_info": {
   "codemirror_mode": {
    "name": "ipython",
    "version": 3
   },
   "file_extension": ".py",
   "mimetype": "text/x-python",
   "name": "python",
   "nbconvert_exporter": "python",
   "pygments_lexer": "ipython3",
   "version": "3.8.3"
  }
 },
 "nbformat": 4,
 "nbformat_minor": 5
}
